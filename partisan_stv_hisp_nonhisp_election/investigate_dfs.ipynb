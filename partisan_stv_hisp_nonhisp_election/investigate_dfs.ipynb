{
 "cells": [
  {
   "cell_type": "code",
   "execution_count": 42,
   "id": "3c2dfb30",
   "metadata": {},
   "outputs": [
    {
     "name": "stdout",
     "output_type": "stream",
     "text": [
      "Collecting tqdm\n",
      "  Downloading tqdm-4.67.1-py3-none-any.whl.metadata (57 kB)\n",
      "\u001b[2K     \u001b[90m━━━━━━━━━━━━━━━━━━━━━━━━━━━━━━━━━━━━━━━\u001b[0m \u001b[32m57.7/57.7 kB\u001b[0m \u001b[31m887.6 kB/s\u001b[0m eta \u001b[36m0:00:00\u001b[0m \u001b[36m0:00:01\u001b[0m\n",
      "\u001b[?25hDownloading tqdm-4.67.1-py3-none-any.whl (78 kB)\n",
      "\u001b[2K   \u001b[90m━━━━━━━━━━━━━━━━━━━━━━━━━━━━━━━━━━━━━━━━\u001b[0m \u001b[32m78.5/78.5 kB\u001b[0m \u001b[31m4.2 MB/s\u001b[0m eta \u001b[36m0:00:00\u001b[0m\n",
      "\u001b[?25hInstalling collected packages: tqdm\n",
      "Successfully installed tqdm-4.67.1\n",
      "\n",
      "\u001b[1m[\u001b[0m\u001b[34;49mnotice\u001b[0m\u001b[1;39;49m]\u001b[0m\u001b[39;49m A new release of pip is available: \u001b[0m\u001b[31;49m24.0\u001b[0m\u001b[39;49m -> \u001b[0m\u001b[32;49m25.1.1\u001b[0m\n",
      "\u001b[1m[\u001b[0m\u001b[34;49mnotice\u001b[0m\u001b[1;39;49m]\u001b[0m\u001b[39;49m To update, run: \u001b[0m\u001b[32;49mpip install --upgrade pip\u001b[0m\n"
     ]
    }
   ],
   "source": [
    "!pip install tqdm"
   ]
  },
  {
   "cell_type": "code",
   "execution_count": 45,
   "id": "577dc093",
   "metadata": {},
   "outputs": [],
   "source": [
    "import numpy as np\n",
    "import pandas as pd\n",
    "import votekit.elections as elec\n",
    "from votekit import PreferenceInterval\n",
    "import votekit.ballot_generator as bg\n",
    "from glob import glob\n",
    "import jsonlines as jl\n",
    "from tqdm import tqdm\n",
    "import json"
   ]
  },
  {
   "cell_type": "code",
   "execution_count": null,
   "id": "fcc78c71",
   "metadata": {},
   "outputs": [],
   "source": [
    "## Read in all dataframes\n",
    "elec_df = pd.read_parquet(\"../JeffersonData/Jefferson_elections.parquet\")\n",
    "pop_df = pd.read_parquet(\"../JeffersonData/Jefferson_pop.parquet\")\n",
    "precincts_df =pd.read_parquet(\"../JeffersonData/Jefferson_precincts.parquet\")\n",
    "vap_df = pd.read_parquet(\"../JeffersonData/Jefferson_vap.parquet\")\n"
   ]
  },
  {
   "cell_type": "markdown",
   "id": "9551f9b4",
   "metadata": {},
   "source": [
    "#### Extract SVT parameters from given datasets"
   ]
  },
  {
   "cell_type": "code",
   "execution_count": 9,
   "id": "dc15d7c0",
   "metadata": {},
   "outputs": [
    {
     "name": "stdout",
     "output_type": "stream",
     "text": [
      "Index(['tot_pop_20', 'bpop_20', 'hpop_20', 'asian_nhpi_pop_20', 'amin_pop_20',\n",
      "       'other_pop_20', 'white_pop_20'],\n",
      "      dtype='object')\n",
      "percentage hispanic VAP:  0.15319002933557496\n",
      "Index(['pres_08_dem', 'pres_08_rep', 'pres_12_dem', 'pres_12_rep',\n",
      "       'pres_16_dem', 'pres_16_rep', 'sen_16_dem', 'sen_16_rep', 'gov_18_dem',\n",
      "       'gov_18_rep', 'ag_18_dem', 'ag_18_rep', 'pres_20_dem', 'pres_20_rep',\n",
      "       'sen_20_dem', 'sen_20_rep'],\n",
      "      dtype='object')\n",
      "0.5953878406708596\n"
     ]
    }
   ],
   "source": [
    "print(pop_df.columns)\n",
    "tot_pop = sum(pop_df.tot_pop_20)\n",
    "h_pop = sum(pop_df.hpop_20)\n",
    "print(\"percentage hispanic VAP: \", h_pop/tot_pop)\n",
    "print(elec_df.columns)\n",
    "tot_votes = sum(elec_df.pres_20_dem) + sum(elec_df.pres_20_rep)\n",
    "dem_votes = sum(elec_df.pres_20_dem)\n",
    "print(dem_votes / tot_votes)"
   ]
  },
  {
   "cell_type": "code",
   "execution_count": 31,
   "id": "b6cb67a8",
   "metadata": {},
   "outputs": [],
   "source": [
    "## Generate a profile\n",
    "\n",
    "from votekit.pref_profile import profile_df_head\n",
    "\n",
    "\n",
    "slate_to_candidates = {\"Hisp\": [\"D1, D2, D3, D4, D5\"], \"Non-Hisp\": [\"R1, R2, R3, R4, R5\"]}\n",
    "\n",
    "# note that we include candidates with 0 support,\n",
    "# and that our preference intervals will automatically rescale to sum to 1\n",
    "\n",
    "pref_intervals_by_bloc = {\n",
    "    \"Hisp\": {\n",
    "        \"Hisp\": PreferenceInterval({\"D1\": 1, \"D2\":1, \"D3\": 1, \"D4\": 1, \"D5\": 1}),\n",
    "        \"Non-Hisp\": PreferenceInterval({\"R1\": 1, \"R2\": 1, \"R3\": 1, \"R4\": 1, \"R5\": 1}),\n",
    "    },\n",
    "    \"Non-Hisp\": {\n",
    "        \"Hisp\": PreferenceInterval({\"D1\": 1, \"D2\":1, \"D3\": 1, \"D4\": 1, \"D5\": 1}),\n",
    "        \"Non-Hisp\": PreferenceInterval({\"R1\": 1, \"R2\": 1, \"R3\": 1, \"R4\": 1, \"R5\": 1}),\n",
    "    },\n",
    "}\n",
    "\n",
    "\n",
    "bloc_voter_prop = {\"Hisp\": 0.15, \"Non-Hisp\": 0.85}\n",
    "\n",
    "# assume that each bloc is 90% cohesive\n",
    "# we'll discuss exactly what that means later\n",
    "cohesion_parameters = {\n",
    "    \"Hisp\": {\"Hisp\": 0.8, \"Non-Hisp\": 0.2},\n",
    "    \"Non-Hisp\": {\"Hisp\": 0.5, \"Non-Hisp\": 0.5},\n",
    "    # measured cohesion is about 60% demo 40% repub\n",
    "}\n",
    "\n",
    "pl = bg.slate_PlackettLuce(\n",
    "    pref_intervals_by_bloc=pref_intervals_by_bloc,\n",
    "    bloc_voter_prop=bloc_voter_prop,\n",
    "    slate_to_candidates=slate_to_candidates,\n",
    "    cohesion_parameters=cohesion_parameters,\n",
    ")\n",
    "\n",
    "# the by_bloc parameter allows us to see which ballots came from which blocs of voters\n",
    "#profile_dict, agg_profile = pl.generate_profile(number_of_ballots=10000, by_bloc=True)\n",
    "profile_dict = pl.generate_profile(number_of_ballots=10000)\n",
    "'''\n",
    "print(\"The ballots from Alpha voters\\n\", profile_df_head(profile_dict[\"Alpha\"], 10))\n",
    "\n",
    "print(\"The ballots from Xenon voters\\n\", profile_df_head(profile_dict[\"Xenon\"],10))\n",
    "\n",
    "print(\"Aggregated ballots\\n\", profile_df_head(agg_profile,10))\n",
    "'''\n",
    "\n",
    "## Run some elections with this profile\n",
    "election = elec.STV(profile_dict, m=5)\n"
   ]
  },
  {
   "cell_type": "code",
   "execution_count": null,
   "id": "43a07541",
   "metadata": {},
   "outputs": [
    {
     "data": {
      "text/plain": [
       "        Status  Round\n",
       "D3     Elected      5\n",
       "D2     Elected      5\n",
       "D4     Elected      5\n",
       "D5     Elected      5\n",
       "D1     Elected      5\n",
       "R5   Remaining      5\n",
       "R4  Eliminated      4\n",
       "R1  Eliminated      3\n",
       "R2  Eliminated      2\n",
       "R3  Eliminated      1"
      ]
     },
     "execution_count": 32,
     "metadata": {},
     "output_type": "execute_result"
    }
   ],
   "source": [
    "election\n",
    "#tot_pop\n",
    "\n",
    "'''\n",
    "    So, what do we want to ask. Do we want to keep pushing up the\n",
    "    percentage of the hispanic population? And then what do we want to\n",
    "    measure? Do we want to just look at the bubble plots for different\n",
    "    values of p_hisp?\n",
    "    Or do we want to run gerrychain and look at the number democ seats\n",
    "    won for different values of p_hisp?\n",
    "\n",
    "    That would involve looking at the gerrychain code, so how about we\n",
    "    look just at the bubble plots to begin and then we can look at the\n",
    "    gerrychain code if we are not satisfied?\n",
    "\n",
    "\n",
    "'''"
   ]
  },
  {
   "cell_type": "code",
   "execution_count": 33,
   "id": "a6b393b0",
   "metadata": {},
   "outputs": [
    {
     "data": {
      "text/plain": [
       "{'asfd': 321423}"
      ]
     },
     "execution_count": 33,
     "metadata": {},
     "output_type": "execute_result"
    }
   ],
   "source": [
    "dict(asfd=321423)"
   ]
  },
  {
   "cell_type": "code",
   "execution_count": null,
   "id": "592721b8",
   "metadata": {},
   "outputs": [
    {
     "name": "stdout",
     "output_type": "stream",
     "text": [
      "['./jefferson_run_settings/hisp_prop_0p267_hisp_coh_0p8_non_hisp_coh_0p5.json', './jefferson_run_settings/hisp_prop_0p15_hisp_coh_0p8_non_hisp_coh_0p5.json', './jefferson_run_settings/hisp_prop_0p208_hisp_coh_0p8_non_hisp_coh_0p5.json', './jefferson_run_settings/hisp_prop_0p325_hisp_coh_0p8_non_hisp_coh_0p5.json', './jefferson_run_settings/hisp_prop_0p383_hisp_coh_0p8_non_hisp_coh_0p5.json', './jefferson_run_settings/hisp_prop_0p442_hisp_coh_0p8_non_hisp_coh_0p5.json', './jefferson_run_settings/hisp_prop_0p5_hisp_coh_0p8_non_hisp_coh_0p5.json']\n"
     ]
    },
    {
     "name": "stderr",
     "output_type": "stream",
     "text": [
      "  0%|          | 0/100 [00:00<?, ?it/s]"
     ]
    }
   ],
   "source": [
    "settings_files = glob(\"./jefferson_run_settings/*.json\")\n",
    "#settings_files = settings_files[:10]\n",
    "print(settings_files)\n",
    "with jl.open('partisan_election_hisp_results_5.jsonl','w') as writer:\n",
    "    for setting_file in settings_files: #tqdm(settings_files):\n",
    "        with open(setting_file, \"r\") as f:\n",
    "            ballot_generator_kwargs = json.load(f)\n",
    "            if ballot_generator_kwargs is None:\n",
    "                ballot_generator_kwargs = {}\n",
    "            #print(ballot_generator_kwargs)\n",
    "            #break\n",
    "        \n",
    "        for trials in tqdm(range(100)):\n",
    "            profile = bg.slate_PlackettLuce.from_params(**ballot_generator_kwargs).generate_profile(number_of_ballots=10000)\n",
    "\n",
    "            election = elec.STV(profile, m=5)\n",
    "            writer.write({\n",
    "                \"winners\": [winner for winner_set in election.get_elected() for winner in winner_set],\n",
    "                \"hisp_perc\": ballot_generator_kwargs[\"bloc_voter_prop\"][\"hisp\"],\n",
    "                #\"cohesion\": ballot_generator_kwargs[\"cohesion_parameters\"][\"D\"][\"D\"],\n",
    "                \"m\":5\n",
    "                })\n",
    "\n",
    "with jl.open('partisan_election_hisp_results_3.jsonl','w') as writer:\n",
    "    for setting_file in settings_files: #tqdm(settings_files):\n",
    "        with open(setting_file, \"r\") as f:\n",
    "            ballot_generator_kwargs = json.load(f)\n",
    "            if ballot_generator_kwargs is None:\n",
    "                ballot_generator_kwargs = {}\n",
    "            #print(ballot_generator_kwargs)\n",
    "            #break\n",
    "        \n",
    "        for trials in tqdm(range(100)):\n",
    "            profile = bg.slate_PlackettLuce.from_params(**ballot_generator_kwargs).generate_profile(number_of_ballots=10000)\n",
    "\n",
    "            election = elec.STV(profile, m=3)\n",
    "            writer.write({\n",
    "                \"winners\": [winner for winner_set in election.get_elected() for winner in winner_set],\n",
    "                \"hisp_perc\": ballot_generator_kwargs[\"bloc_voter_prop\"][\"hisp\"],\n",
    "                #\"cohesion\": ballot_generator_kwargs[\"cohesion_parameters\"][\"D\"][\"D\"],\n",
    "                \"m\":3\n",
    "                })\n",
    "        "
   ]
  },
  {
   "cell_type": "code",
   "execution_count": null,
   "id": "1667fbeb",
   "metadata": {},
   "outputs": [
    {
     "name": "stdout",
     "output_type": "stream",
     "text": [
      "[0, 1, 9, 0, 0, 0]\n",
      "[0, 3, 7, 0, 0, 0]\n",
      "[0, 5, 5, 0, 0, 0]\n",
      "[0, 6, 4, 0, 0, 0]\n",
      "[0, 6, 4, 0, 0, 0]\n",
      "[0, 8, 2, 0, 0, 0]\n",
      "[0, 10, 0, 0, 0, 0]\n"
     ]
    },
    {
     "data": {
      "image/png": "[encoded data removed]",
      "text/plain": [
       "<Figure size 640x480 with 1 Axes>"
      ]
     },
     "metadata": {},
     "output_type": "display_data"
    },
    {
     "name": "stdout",
     "output_type": "stream",
     "text": [
      "[0, 10, 0, 0, 0, 0]\n"
     ]
    }
   ],
   "source": [
    "import pandas as pd\n",
    "from typing import Optional\n",
    "import numpy as np\n",
    "from matplotlib.axes import Axes\n",
    "import matplotlib.pyplot as plt\n",
    "\n",
    "jsonl_file = \"./partisan_election_hisp_results_5.jsonl\"\n",
    "\n",
    "def get_cohesions():\n",
    "    election_df = pd.read_json(jsonl_file,lines = True)\n",
    "    return election_df['cohesion'].tolist()\n",
    "\n",
    "def get_percents():\n",
    "    election_df = pd.read_json(jsonl_file,lines = True)\n",
    "    return election_df['hisp_perc'].tolist()\n",
    "\n",
    "def filter_df(election_df, m, hisp_perc):\n",
    "    return election_df[(election_df.m == m) & (abs(election_df.hisp_perc - hisp_perc) <.001)]\n",
    "\n",
    "\n",
    "def get_all_simulations():\n",
    "    return pd.read_json(jsonl_file,lines = True)\n",
    "\n",
    "\n",
    "def get_num_reps(winner_list):\n",
    "    return len(list(filter(lambda x: 'R' in x, winner_list)))\n",
    "\n",
    "def get_num_rep_win(election_df):\n",
    "    winners_list = election_df['winners'].tolist()\n",
    "    num_winners = [0,0,0,0,0,0] #0th element is 0 rep wins, 1st ele is 1 rep win, etc\n",
    "\n",
    "    each_winner = []\n",
    "    for trial in winners_list:\n",
    "        num_reps = get_num_reps(trial)\n",
    "        num_winners[num_reps] +=1\n",
    "        each_winner.append(num_reps)\n",
    "    return num_winners,each_winner\n",
    "\n",
    "\n",
    "\n",
    "def bubble_plot_integer(\n",
    "    data: list[list[int]],\n",
    "    colors: list[str],\n",
    "    ax: Optional[Axes] = None,\n",
    "    marker: str =\".\",\n",
    "    size: int = 1000,\n",
    "):\n",
    "    # create figure\n",
    "\n",
    "    if ax is None:\n",
    "        fig, ax = plt.subplots()\n",
    "\n",
    "    x_max = int(max(max(vector) for vector in data))\n",
    "    bin_min = 0\n",
    "    bin_max = x_max\n",
    "    bins = np.arange(bin_min-.5, bin_max+1.5, 1)\n",
    "\n",
    "    for j, vector in enumerate(data):\n",
    "        x = [i for i in range(x_max+1)] # x=0,...,x_max\n",
    "        y = [j+1]*len(x) # put each vector at a different height\n",
    "\n",
    "        bin_heights, _ = np.histogram(vector, bins = bins,density=True)\n",
    "        circle_areas = [size*bin_heights[i] for i in range(x_max+1)]\n",
    "        ax.scatter(x, y, s=circle_areas, alpha=1, color = colors[j], label = None, edgecolors='black', marker=marker)\n",
    "\n",
    "    return ax\n",
    "\n",
    "\n",
    "#cohesions = sorted(list(set(get_cohesions())))\n",
    "percents = sorted(list(set(get_percents())))\n",
    "election_df = get_all_simulations()\n",
    "#cohesion = .9\n",
    "\n",
    "each_winners = []\n",
    "#percent = percents[9]\n",
    "cohesion = 1\n",
    "for hisp_perc in sorted(election_df[\"hisp_perc\"].unique()):\n",
    "    filtered_df = filter_df(election_df, 5, hisp_perc)\n",
    "    rep_wins,each_winner = get_num_rep_win(filtered_df)\n",
    "    print(rep_wins)\n",
    "    each_winners.append(each_winner)\n",
    "\n",
    "\n",
    "\n",
    "ax = bubble_plot_integer(data = each_winners, colors = ['#deadbeef' for x in range(len(each_winners))])\n",
    "ax.set_yticks(ticks = [i+1 for i in range(len(percents))],labels= [float(int(i*10))/10 for i in percents])\n",
    "ax.set_xticks([i for i in range(6)])\n",
    "ax.set_ylabel(\"Percentage of Hispanics\")\n",
    "ax.set_xlabel(\"Number of Seats Won by Republicans\")\n",
    "plt.savefig(\"STV_Five_hisp_Winners.png\")\n",
    "plt.show()\n",
    "print(rep_wins)\n"
   ]
  }
 ],
 "metadata": {
  "kernelspec": {
   "display_name": ".venv",
   "language": "python",
   "name": "python3"
  },
  "language_info": {
   "codemirror_mode": {
    "name": "ipython",
    "version": 3
   },
   "file_extension": ".py",
   "mimetype": "text/x-python",
   "name": "python",
   "nbconvert_exporter": "python",
   "pygments_lexer": "ipython3",
   "version": "3.12.3"
  }
 },
 "nbformat": 4,
 "nbformat_minor": 5
}
