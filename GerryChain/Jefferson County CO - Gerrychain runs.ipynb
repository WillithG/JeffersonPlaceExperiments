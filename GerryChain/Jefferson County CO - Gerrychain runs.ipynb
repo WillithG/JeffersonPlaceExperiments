{
 "cells": [
  {
   "cell_type": "code",
   "execution_count": 1,
   "id": "46525c49-2f19-48d6-99c3-10c861e37884",
   "metadata": {},
   "outputs": [],
   "source": [
    "import matplotlib.pyplot as plt\n",
    "from gerrychain import Partition, Graph, MarkovChain, Election, updaters, accept\n",
    "from gerrychain.proposals import recom\n",
    "from functools import partial\n",
    "import json\n",
    "import jsonlines as jl\n",
    "import random\n",
    "import click\n",
    "import warnings\n",
    "\n",
    "import pandas as pd\n",
    "import geopandas as gpd\n",
    "import numpy as np\n",
    "\n",
    "\n",
    "from tqdm import tqdm\n",
    "\n",
    "warnings.filterwarnings(\"ignore\")\n"
   ]
  },
  {
   "cell_type": "markdown",
   "id": "acd18d50-0e8d-4aaa-bb8c-7f80b9a8ecb3",
   "metadata": {},
   "source": [
    "### Jefferson County dual graph:"
   ]
  },
  {
   "cell_type": "code",
   "execution_count": 2,
   "id": "bec1a1cb-68d2-4927-b39b-30b54db54efb",
   "metadata": {},
   "outputs": [],
   "source": [
    "graph = Graph.from_json('./Jefferson_County_precincts.json')"
   ]
  },
  {
   "cell_type": "code",
   "execution_count": 3,
   "id": "f8d1d2eb-054d-4915-8317-5653b49f1066",
   "metadata": {
    "scrolled": true
   },
   "outputs": [
    {
     "data": {
      "text/plain": [
       "{'boundary_node': False,\n",
       " 'area': 4630472.57580736,\n",
       " 'STATEFP20': '08',\n",
       " 'COUNTYFP20': '059',\n",
       " 'VTDST20': '059040',\n",
       " 'GEOID20': '08059059040',\n",
       " 'VTDI20': 'A',\n",
       " 'NAME20': 'Jefferson 040',\n",
       " 'NAMELSAD20': 'Jefferson 040',\n",
       " 'LSAD20': '00',\n",
       " 'MTFCC20': 'G5240',\n",
       " 'FUNCSTAT20': 'N',\n",
       " 'ALAND20': 4601450,\n",
       " 'AWATER20': 32622,\n",
       " 'INTPTLAT20': '+39.6727134',\n",
       " 'INTPTLON20': '-105.3508621',\n",
       " 'tot_pop_20': 2129,\n",
       " 'bpop_20': 9,\n",
       " 'hpop_20': 48,\n",
       " 'asian_nhpi_pop_20': 42,\n",
       " 'amin_pop_20': 25,\n",
       " 'other_pop_20': 19,\n",
       " 'white_pop_20': 1986,\n",
       " 'tot_vap_20': 1580,\n",
       " 'bvap_20': 3,\n",
       " 'hvap_20': 30,\n",
       " 'asian_nhpi_vap_20': 25,\n",
       " 'amin_vap_20': 11,\n",
       " 'other_vap_20': 16,\n",
       " 'white_vap_20': 1495,\n",
       " 'pres_08_dem': 592,\n",
       " 'pres_08_rep': 808,\n",
       " 'pres_12_dem': 510,\n",
       " 'pres_12_rep': 933,\n",
       " 'pres_16_dem': 678,\n",
       " 'pres_16_rep': 698,\n",
       " 'sen_16_dem': 665,\n",
       " 'sen_16_rep': 753,\n",
       " 'gov_18_dem': 687,\n",
       " 'gov_18_rep': 722,\n",
       " 'ag_18_dem': 644,\n",
       " 'ag_18_rep': 746,\n",
       " 'pres_20_dem': 902,\n",
       " 'pres_20_rep': 669,\n",
       " 'sen_20_dem': 819,\n",
       " 'sen_20_rep': 793}"
      ]
     },
     "execution_count": 3,
     "metadata": {},
     "output_type": "execute_result"
    }
   ],
   "source": [
    "graph.nodes[0]"
   ]
  },
  {
   "cell_type": "markdown",
   "id": "f08187c7-2a64-47b0-af78-308043cb62be",
   "metadata": {},
   "source": [
    "### Add an NHVAP column:"
   ]
  },
  {
   "cell_type": "code",
   "execution_count": 4,
   "id": "0a42a25f-5ab2-4c05-98e7-a419eebe411d",
   "metadata": {},
   "outputs": [],
   "source": [
    "for node in graph.nodes():\n",
    "    graph.nodes[node]['nhvap_20'] = graph.nodes[node]['tot_vap_20'] - graph.nodes[node]['hvap_20']"
   ]
  },
  {
   "cell_type": "code",
   "execution_count": 5,
   "id": "40336855-f4d6-488b-a8a9-69ac6391636b",
   "metadata": {},
   "outputs": [
    {
     "data": {
      "text/plain": [
       "{'boundary_node': False,\n",
       " 'area': 4630472.57580736,\n",
       " 'STATEFP20': '08',\n",
       " 'COUNTYFP20': '059',\n",
       " 'VTDST20': '059040',\n",
       " 'GEOID20': '08059059040',\n",
       " 'VTDI20': 'A',\n",
       " 'NAME20': 'Jefferson 040',\n",
       " 'NAMELSAD20': 'Jefferson 040',\n",
       " 'LSAD20': '00',\n",
       " 'MTFCC20': 'G5240',\n",
       " 'FUNCSTAT20': 'N',\n",
       " 'ALAND20': 4601450,\n",
       " 'AWATER20': 32622,\n",
       " 'INTPTLAT20': '+39.6727134',\n",
       " 'INTPTLON20': '-105.3508621',\n",
       " 'tot_pop_20': 2129,\n",
       " 'bpop_20': 9,\n",
       " 'hpop_20': 48,\n",
       " 'asian_nhpi_pop_20': 42,\n",
       " 'amin_pop_20': 25,\n",
       " 'other_pop_20': 19,\n",
       " 'white_pop_20': 1986,\n",
       " 'tot_vap_20': 1580,\n",
       " 'bvap_20': 3,\n",
       " 'hvap_20': 30,\n",
       " 'asian_nhpi_vap_20': 25,\n",
       " 'amin_vap_20': 11,\n",
       " 'other_vap_20': 16,\n",
       " 'white_vap_20': 1495,\n",
       " 'pres_08_dem': 592,\n",
       " 'pres_08_rep': 808,\n",
       " 'pres_12_dem': 510,\n",
       " 'pres_12_rep': 933,\n",
       " 'pres_16_dem': 678,\n",
       " 'pres_16_rep': 698,\n",
       " 'sen_16_dem': 665,\n",
       " 'sen_16_rep': 753,\n",
       " 'gov_18_dem': 687,\n",
       " 'gov_18_rep': 722,\n",
       " 'ag_18_dem': 644,\n",
       " 'ag_18_rep': 746,\n",
       " 'pres_20_dem': 902,\n",
       " 'pres_20_rep': 669,\n",
       " 'sen_20_dem': 819,\n",
       " 'sen_20_rep': 793,\n",
       " 'nhvap_20': 1550}"
      ]
     },
     "execution_count": 5,
     "metadata": {},
     "output_type": "execute_result"
    }
   ],
   "source": [
    "graph.nodes[0]"
   ]
  },
  {
   "cell_type": "markdown",
   "id": "84cf9573-942e-4dd5-8ea4-edf662b576cb",
   "metadata": {},
   "source": [
    "### We should tally all these population and election columns for districts."
   ]
  },
  {
   "cell_type": "code",
   "execution_count": 6,
   "id": "f0535480-c6cb-4950-b109-0f342b401c3c",
   "metadata": {},
   "outputs": [],
   "source": [
    "election_names = [\n",
    "    'pres_08', 'pres_12', 'pres_16', 'sen_16', 'gov_18', 'ag_18', 'pres_20', 'sen_20'\n",
    "]\n",
    "\n",
    "election_columns = [\n",
    "    [col+'_dem', col+'_rep'] for col in election_names\n",
    "]\n",
    "\n",
    "# Add an \"election\" for hvap percentage:\n",
    "\n",
    "election_names.append('hvap_20')\n",
    "election_columns.append(['hvap_20', 'nhvap_20'])\n",
    "\n",
    "num_elections = len(election_names)\n",
    "\n",
    "\n",
    "elections = [\n",
    "    Election(\n",
    "        election_names[i],\n",
    "        {\"Democratic\": election_columns[i][0], \"Republican\": election_columns[i][1]},\n",
    "    )\n",
    "    for i in range(num_elections)\n",
    "]"
   ]
  },
  {
   "cell_type": "code",
   "execution_count": 7,
   "id": "f5aa4345-c4bd-4a29-878f-a7ce3d539d4f",
   "metadata": {},
   "outputs": [],
   "source": [
    "my_updaters = {\"totpop20\": updaters.Tally('tot_pop_20', alias=\"totpop20\")}\n",
    "\n",
    "election_updaters = {election.name: election for election in elections}\n",
    "\n",
    "my_updaters.update(election_updaters)"
   ]
  },
  {
   "cell_type": "markdown",
   "id": "e16f4c9f-8d42-4872-9cd7-ea871da2c3ef",
   "metadata": {},
   "source": [
    "### Initial partitions for 3 and 5 district plans:"
   ]
  },
  {
   "cell_type": "code",
   "execution_count": 8,
   "id": "983467d0-59fc-4914-ac2a-b2fae1e5e41f",
   "metadata": {},
   "outputs": [],
   "source": [
    "initial_partition_3 = Partition.from_random_assignment(\n",
    "    graph,\n",
    "    n_parts=3,\n",
    "    epsilon=0.05,\n",
    "    pop_col=\"tot_pop_20\",\n",
    "    updaters=my_updaters\n",
    ")\n",
    "\n",
    "initial_partition_5 = Partition.from_random_assignment(\n",
    "    graph,\n",
    "    n_parts=5,\n",
    "    epsilon=0.05,\n",
    "    pop_col=\"tot_pop_20\",\n",
    "    updaters=my_updaters\n",
    ")\n"
   ]
  },
  {
   "cell_type": "code",
   "execution_count": 9,
   "id": "faba1006-dce0-4b6a-be22-09bd286c396f",
   "metadata": {},
   "outputs": [
    {
     "name": "stdout",
     "output_type": "stream",
     "text": [
      "194303 116582\n"
     ]
    }
   ],
   "source": [
    "ideal_pop_3 = int(sum(initial_partition_3[\"totpop20\"].values())/3)\n",
    "ideal_pop_5 = int(sum(initial_partition_3[\"totpop20\"].values())/5)\n",
    "\n",
    "print(ideal_pop_3, ideal_pop_5)"
   ]
  },
  {
   "cell_type": "code",
   "execution_count": 10,
   "id": "ceb5e248-2de1-4793-8baa-8dadfaec385d",
   "metadata": {},
   "outputs": [],
   "source": [
    "proposal_3 = partial(\n",
    "    recom, pop_col=\"tot_pop_20\", pop_target=ideal_pop_3, epsilon=0.05\n",
    ")\n",
    "\n",
    "proposal_5 = partial(\n",
    "    recom, pop_col=\"tot_pop_20\", pop_target=ideal_pop_5, epsilon=0.05\n",
    ")\n",
    "\n",
    "\n",
    "recom_chain_3 = MarkovChain(\n",
    "    proposal_3,\n",
    "    constraints=[],\n",
    "    accept=accept.always_accept,\n",
    "    initial_state=initial_partition_3,\n",
    "    total_steps=100000,\n",
    ")\n",
    "\n",
    "recom_chain_5 = MarkovChain(\n",
    "    proposal_5,\n",
    "    constraints=[],\n",
    "    accept=accept.always_accept,\n",
    "    initial_state=initial_partition_5,\n",
    "    total_steps=100000,\n",
    ")\n",
    "\n"
   ]
  },
  {
   "cell_type": "markdown",
   "id": "237f08ac-bf47-4143-8d21-83aa969f2860",
   "metadata": {},
   "source": [
    "### Collect stats:"
   ]
  },
  {
   "cell_type": "code",
   "execution_count": 11,
   "id": "08c8fefe-43ed-44ec-9b2d-26b7241bedf3",
   "metadata": {
    "scrolled": true
   },
   "outputs": [
    {
     "name": "stderr",
     "output_type": "stream",
     "text": [
      "100%|█████████████████████████████████| 100000/100000 [08:30<00:00, 196.03it/s]\n"
     ]
    }
   ],
   "source": [
    "chain_3_data_dict={}\n",
    "\n",
    "chain_3_data_dict['totpop20']=[]\n",
    "chain_3_data_dict['vap20']=[]\n",
    "chain_3_data_dict['hvap20'] = []\n",
    "\n",
    "for election in election_names:\n",
    "    chain_3_data_dict[election]=[]\n",
    "\n",
    "\n",
    "for part in tqdm(recom_chain_3):\n",
    "        \n",
    "    chain_3_data_dict['totpop20'].append(sorted(list(part[\"totpop20\"].values())))\n",
    "    \n",
    "    for election in election_names:\n",
    "        chain_3_data_dict[election].append(sorted(part[election].percents(\"Democratic\")))\n",
    "\n",
    "\n",
    "with(open('./Outputs/Chain_3_totpop20.json', 'w')) as pout:\n",
    "    json.dump(chain_3_data_dict['totpop20'] , pout)  \n",
    "\n",
    "with(open('./Outputs/Chain_3_vap20.json', 'w')) as pout:\n",
    "    json.dump(chain_3_data_dict['vap20'] , pout)  \n",
    "\n",
    "with(open('./Outputs/Chain_3_hvap20.json', 'w')) as pout:\n",
    "    json.dump(chain_3_data_dict['hvap20'] , pout)  \n",
    "\n",
    "            \n",
    "for election in election_names:                \n",
    "    with(open('./Outputs/Chain_3_' + election + '.json', 'w')) as eout:\n",
    "        json.dump(chain_3_data_dict[election] , eout)  \n",
    "                \n"
   ]
  },
  {
   "cell_type": "code",
   "execution_count": 13,
   "id": "0b533dfb-9d15-4535-9ff6-fba1e95ad20f",
   "metadata": {
    "scrolled": true
   },
   "outputs": [
    {
     "name": "stderr",
     "output_type": "stream",
     "text": [
      "100%|█████████████████████████████████| 100000/100000 [06:11<00:00, 268.85it/s]\n"
     ]
    }
   ],
   "source": [
    "chain_5_data_dict={}\n",
    "\n",
    "chain_5_data_dict['totpop20']=[]\n",
    "chain_5_data_dict['vap20']=[]\n",
    "chain_5_data_dict['hvap20'] = []\n",
    "\n",
    "for election in election_names:\n",
    "    chain_5_data_dict[election]=[]\n",
    "\n",
    "\n",
    "for part in tqdm(recom_chain_5):\n",
    "        \n",
    "    chain_5_data_dict['totpop20'].append(sorted(list(part[\"totpop20\"].values())))\n",
    "    \n",
    "    for election in election_names:\n",
    "        chain_5_data_dict[election].append(sorted(part[election].percents(\"Democratic\")))\n",
    "\n",
    "\n",
    "with(open('./Outputs/Chain_5_totpop20.json', 'w')) as pout:\n",
    "    json.dump(chain_5_data_dict['totpop20'] , pout)  \n",
    "\n",
    "with(open('./Outputs/Chain_5_vap20.json', 'w')) as pout:\n",
    "    json.dump(chain_5_data_dict['vap20'] , pout)  \n",
    "\n",
    "with(open('./Outputs/Chain_5_hvap20.json', 'w')) as pout:\n",
    "    json.dump(chain_5_data_dict['hvap20'] , pout)  \n",
    "\n",
    "            \n",
    "for election in election_names:                \n",
    "    with(open('./Outputs/Chain_5_' + election + '.json', 'w')) as eout:\n",
    "        json.dump(chain_5_data_dict[election] , eout)  \n",
    "                \n"
   ]
  },
  {
   "cell_type": "code",
   "execution_count": null,
   "id": "108401bf-1310-4abb-bb5d-1dbef09a6b71",
   "metadata": {},
   "outputs": [],
   "source": []
  },
  {
   "cell_type": "code",
   "execution_count": null,
   "id": "790b786a-acdb-4934-bbe9-c02161097923",
   "metadata": {},
   "outputs": [],
   "source": []
  },
  {
   "cell_type": "code",
   "execution_count": null,
   "id": "f768124e-99ca-48c7-813a-c2c54259086d",
   "metadata": {},
   "outputs": [],
   "source": []
  },
  {
   "cell_type": "code",
   "execution_count": null,
   "id": "03ae8820-6848-4650-8b7c-e694876b1a31",
   "metadata": {},
   "outputs": [],
   "source": []
  },
  {
   "cell_type": "code",
   "execution_count": null,
   "id": "d070ac1d-6f72-4494-b00f-a85cb5760d7e",
   "metadata": {},
   "outputs": [],
   "source": []
  }
 ],
 "metadata": {
  "kernelspec": {
   "display_name": "Python 3 (ipykernel)",
   "language": "python",
   "name": "python3"
  },
  "language_info": {
   "codemirror_mode": {
    "name": "ipython",
    "version": 3
   },
   "file_extension": ".py",
   "mimetype": "text/x-python",
   "name": "python",
   "nbconvert_exporter": "python",
   "pygments_lexer": "ipython3",
   "version": "3.12.4"
  }
 },
 "nbformat": 4,
 "nbformat_minor": 5
}
